{
 "cells": [
  {
   "cell_type": "markdown",
   "id": "ba5cb8cd",
   "metadata": {},
   "source": [
    "# Instruction to run the code\n",
    "\n",
    "\n",
    "To run this notebook, we will need the following package installed:\n",
    "\n",
    "```shell\n",
    "pip install geopandas\n",
    "pip install pandas\n",
    "pip install zipfile\n",
    "pip install keplergl\n",
    "pip install math\n",
    "pip install networkx\n",
    "pip install matplotlib\n",
    "```"
   ]
  },
  {
   "cell_type": "code",
   "execution_count": 13,
   "id": "65e58a92",
   "metadata": {},
   "outputs": [],
   "source": [
    "from TransNet import BEB_bus_network\n",
    "from PowerNet import virtual_power_network\n",
    "from GTFS_TransPowerNet import *"
   ]
  },
  {
   "cell_type": "markdown",
   "id": "d0b9832a",
   "metadata": {},
   "source": [
    "# Step 1: Input parameters for the coupled network\n",
    "\n",
    "> Required parameters for the transportation network:\n",
    "> 1. Traveling threshold: The maximum acceptable distance for selecting transportation nodes (unit: feet).\n",
    "> 2. Minimum number of routes: The minimum number of routes that a common stop should serve.\n",
    "\n",
    "\n",
    "> Required parameters for the power network:\n",
    "> 1. Distance threshold: The maximum acceptable distance for selecting power nodes (unit: km).\n"
   ]
  },
  {
   "cell_type": "code",
   "execution_count": 2,
   "id": "2a2cf92f",
   "metadata": {},
   "outputs": [],
   "source": [
    "# set up a traveling threshold for selecting the candidate charging stations along the routes (unit: feet)\n",
    "dist_threshold = 40000\n",
    "# define a common stop as the one that appears in more than 3 routes\n",
    "common_stop_threshold = 3\n",
    "# set a threshold for the distance between the candidate charging stations in the power network (unit: km)\n",
    "threshold_power_node = 2"
   ]
  },
  {
   "cell_type": "markdown",
   "id": "b2edeabd",
   "metadata": {},
   "source": [
    "# Step 2: Input the GTFS files and BEB route list string\n",
    "\n",
    "> Example GTFS files:\n",
    "> Here we provide three examples of GTFS files from different locations:\n",
    "> 1. King County, WA.\n",
    "> 2. Austin, TX.\n",
    "> 3. Salt Lake City, UT.\n",
    "\n",
    "> Selecting BEB routes:\n",
    "> From each GTFS file, a subset of bus routes will be randomly chosen as Battery Electric Bus (BEB) routes.\n",
    "> These routes will be utilized for building the coupled power and transportation network.\n"
   ]
  },
  {
   "cell_type": "code",
   "execution_count": 3,
   "id": "a1223712",
   "metadata": {},
   "outputs": [],
   "source": [
    "# Example 1: King County Metro bus routes (https://metro.kingcounty.gov/GTFS/)\n",
    "WA_gtfs_file = \"king_county_gtfs.zip\"\n",
    "# create a list of routes that are BEB routes\n",
    "WA_BEB_route = [\"22\", \"101\", \"102\", \"111\", \"116\", \"143\", \"150\", \"153\", \"154\", \"156\", \"157\", \"158\", \"159\", \"168\", \"169\",\n",
    "\"177\", \"178\", \"179\", \"180\", \"181\", \"182\", \"183\", \"186\", \"187\", \"190\", \"192\", \"193\", \"197\"]\n",
    "\n",
    "# Example 2: Austin transit bus routes (https://data.austintexas.gov/widgets/r4v4-vz24)\n",
    "TX_gtfs_file = \"austin_gtfs.zip\"\n",
    "TX_BEB_route = [\"103\", \"152\", \"201\", \"214\", \"271\", \"310\", \"315\", \"323\", \"484\", \"550\", \"656\"]\n",
    "\n",
    "# Example 3: Utah bus routes (https://transitfeeds.com/p/utah-transportation-authority/59)\n",
    "UT_gtfs_file = \"uta_gtfs.zip\"\n",
    "UT_BEB_route = [\"17\", \"2\", \"21\", \"33\", \"35\", \"45\", \"47\", \"509\", \"513\", \"551\", \"701\"]"
   ]
  },
  {
   "cell_type": "markdown",
   "id": "ac084385",
   "metadata": {},
   "source": [
    "# Step 3: Select transportation nodes and create the transportation network\n",
    "> The function \"BEB_bus_network\" takes the following inputs: GTFS file, BEB route string list, traveling threshold, and minimum number of routes.\n",
    "\n",
    "> Upon successful execution, the function will provide the following outputs:\n",
    "> 1. A dataframe that records the selected transportation nodes, including stop_id, stop_lon, and stop_lat.\n",
    "> 2. A dataframe that records the line segments forming the links in the transportation network.\n",
    "> 3. A Kepler map showcasing the generated transportation network.\n",
    ">\n",
    "> Furthermore, after successful execution, the function will save the aforementioned dataframes as two geojson files in the current folder, facilitating future GIS analysis. Similarly, the map will be saved in the same folder for easy access and reference."
   ]
  },
  {
   "cell_type": "markdown",
   "id": "3e3f1acb",
   "metadata": {},
   "source": [
    "## Example 1: Generated Transportation Network of King County"
   ]
  },
  {
   "cell_type": "code",
   "execution_count": 4,
   "id": "bf2c4b00",
   "metadata": {},
   "outputs": [
    {
     "name": "stdout",
     "output_type": "stream",
     "text": [
      "User Guide: https://docs.kepler.gl/docs/keplergl-jupyter\n",
      "Map saved to trans_map.html!\n"
     ]
    }
   ],
   "source": [
    "# obtain the list of selected stops that are in the transporation network:\n",
    "WA_candidate_stops_df, WA_shape_routes_df, WA_map_1 = BEB_bus_network(WA_gtfs_file, WA_BEB_route, dist_threshold, common_stop_threshold)"
   ]
  },
  {
   "cell_type": "markdown",
   "id": "73192bde",
   "metadata": {},
   "source": [
    "## Example 2: Generated Transportation Network of Austin"
   ]
  },
  {
   "cell_type": "code",
   "execution_count": 5,
   "id": "303836a0",
   "metadata": {},
   "outputs": [
    {
     "name": "stdout",
     "output_type": "stream",
     "text": [
      "User Guide: https://docs.kepler.gl/docs/keplergl-jupyter\n",
      "Map saved to trans_map.html!\n"
     ]
    }
   ],
   "source": [
    "TX_candidate_stops_df, TX_shape_routes_df, TX_map_1 = BEB_bus_network(TX_gtfs_file, TX_BEB_route, dist_threshold, common_stop_threshold)"
   ]
  },
  {
   "cell_type": "markdown",
   "id": "f3755dc1",
   "metadata": {},
   "source": [
    "## Example 3: Generated Transportation Network of Salt Lake City"
   ]
  },
  {
   "cell_type": "code",
   "execution_count": 6,
   "id": "7279e7f3",
   "metadata": {},
   "outputs": [
    {
     "name": "stdout",
     "output_type": "stream",
     "text": [
      "User Guide: https://docs.kepler.gl/docs/keplergl-jupyter\n"
     ]
    },
    {
     "name": "stderr",
     "output_type": "stream",
     "text": [
      "/Users/zhaoxinyi/Downloads/coupleNetwork/source_code/TransNet.py:178: SettingWithCopyWarning: \n",
      "A value is trying to be set on a copy of a slice from a DataFrame.\n",
      "Try using .loc[row_indexer,col_indexer] = value instead\n",
      "\n",
      "See the caveats in the documentation: https://pandas.pydata.org/pandas-docs/stable/user_guide/indexing.html#returning-a-view-versus-a-copy\n",
      "  shape_routes['route_id'] = ''\n",
      "/Users/zhaoxinyi/Downloads/coupleNetwork/source_code/TransNet.py:180: SettingWithCopyWarning: \n",
      "A value is trying to be set on a copy of a slice from a DataFrame.\n",
      "Try using .loc[row_indexer,col_indexer] = value instead\n",
      "\n",
      "See the caveats in the documentation: https://pandas.pydata.org/pandas-docs/stable/user_guide/indexing.html#returning-a-view-versus-a-copy\n",
      "  shape_routes['route_short_name'] = ''\n",
      "/Users/zhaoxinyi/Downloads/coupleNetwork/source_code/TransNet.py:184: SettingWithCopyWarning: \n",
      "A value is trying to be set on a copy of a slice from a DataFrame.\n",
      "Try using .loc[row_indexer,col_indexer] = value instead\n",
      "\n",
      "See the caveats in the documentation: https://pandas.pydata.org/pandas-docs/stable/user_guide/indexing.html#returning-a-view-versus-a-copy\n",
      "  shape_routes['route_id'] = route_idx\n",
      "/Users/zhaoxinyi/Downloads/coupleNetwork/source_code/TransNet.py:185: SettingWithCopyWarning: \n",
      "A value is trying to be set on a copy of a slice from a DataFrame.\n",
      "Try using .loc[row_indexer,col_indexer] = value instead\n",
      "\n",
      "See the caveats in the documentation: https://pandas.pydata.org/pandas-docs/stable/user_guide/indexing.html#returning-a-view-versus-a-copy\n",
      "  shape_routes['route_short_name'] = selected_routes[selected_routes['route_id'] == route_idx]['route_short_name'].values[0]\n",
      "/Users/zhaoxinyi/Downloads/coupleNetwork/source_code/TransNet.py:189: SettingWithCopyWarning: \n",
      "A value is trying to be set on a copy of a slice from a DataFrame.\n",
      "Try using .loc[row_indexer,col_indexer] = value instead\n",
      "\n",
      "See the caveats in the documentation: https://pandas.pydata.org/pandas-docs/stable/user_guide/indexing.html#returning-a-view-versus-a-copy\n",
      "  shape_routes[['target_lat','target_lon']] = shape_routes[['shape_pt_lat','shape_pt_lon']].copy()\n",
      "/Users/zhaoxinyi/Downloads/coupleNetwork/source_code/TransNet.py:189: SettingWithCopyWarning: \n",
      "A value is trying to be set on a copy of a slice from a DataFrame.\n",
      "Try using .loc[row_indexer,col_indexer] = value instead\n",
      "\n",
      "See the caveats in the documentation: https://pandas.pydata.org/pandas-docs/stable/user_guide/indexing.html#returning-a-view-versus-a-copy\n",
      "  shape_routes[['target_lat','target_lon']] = shape_routes[['shape_pt_lat','shape_pt_lon']].copy()\n",
      "/Users/zhaoxinyi/Downloads/coupleNetwork/source_code/TransNet.py:192: SettingWithCopyWarning: \n",
      "A value is trying to be set on a copy of a slice from a DataFrame.\n",
      "Try using .loc[row_indexer,col_indexer] = value instead\n",
      "\n",
      "See the caveats in the documentation: https://pandas.pydata.org/pandas-docs/stable/user_guide/indexing.html#returning-a-view-versus-a-copy\n",
      "  shape_routes[['target_lat','target_lon']] = tgt_vals\n"
     ]
    },
    {
     "name": "stdout",
     "output_type": "stream",
     "text": [
      "Map saved to trans_map.html!\n"
     ]
    }
   ],
   "source": [
    "UT_candidate_stops_df, UT_shape_routes_df, UT_map_1 = BEB_bus_network(UT_gtfs_file, UT_BEB_route, dist_threshold, common_stop_threshold)"
   ]
  },
  {
   "cell_type": "markdown",
   "id": "132dce9f",
   "metadata": {},
   "source": [
    "# Step 4: Select power nodes and establish the power network\n",
    "> The function \"virtual_power_network\" requires the following inputs: a dataframe containing the selected transportation nodes and a distance threshold.\n",
    "\n",
    "> Upon successful execution, the function will generate the following outputs:\n",
    "> 1. A dataframe that documents the chosen power nodes.\n",
    "> 2. A dataframe that captures the connections within the power network.\n",
    "> 3. A Kepler map displaying the created virtual power network.\n",
    ">\n",
    "> Furthermore, upon successful execution of the function, the power network will be graphically represented and plotted. Additionally, the map will be saved in the current folder for future reference."
   ]
  },
  {
   "cell_type": "markdown",
   "id": "b9008c61",
   "metadata": {},
   "source": [
    "## Example 1: Generated Power Network of King County"
   ]
  },
  {
   "cell_type": "code",
   "execution_count": 7,
   "id": "a755e071",
   "metadata": {},
   "outputs": [
    {
     "name": "stdout",
     "output_type": "stream",
     "text": [
      "User Guide: https://docs.kepler.gl/docs/keplergl-jupyter\n"
     ]
    },
    {
     "data": {
      "image/png": "[encoded data removed]",
      "text/plain": [
       "<Figure size 432x288 with 1 Axes>"
      ]
     },
     "metadata": {},
     "output_type": "display_data"
    },
    {
     "name": "stdout",
     "output_type": "stream",
     "text": [
      "Map saved to grid_map.html!\n"
     ]
    }
   ],
   "source": [
    "# obtain the virtual power network:\n",
    "WA_selected_power_nodes, WA_power_line_list, WA_map_2 = virtual_power_network(WA_candidate_stops_df, threshold_power_node)"
   ]
  },
  {
   "cell_type": "markdown",
   "id": "89983539",
   "metadata": {},
   "source": [
    "## Example 2: Generated Power Network of Austin"
   ]
  },
  {
   "cell_type": "code",
   "execution_count": 8,
   "id": "ac1b7a8c",
   "metadata": {},
   "outputs": [
    {
     "name": "stdout",
     "output_type": "stream",
     "text": [
      "User Guide: https://docs.kepler.gl/docs/keplergl-jupyter\n"
     ]
    },
    {
     "data": {
      "image/png": "[encoded data removed]",
      "text/plain": [
       "<Figure size 432x288 with 1 Axes>"
      ]
     },
     "metadata": {},
     "output_type": "display_data"
    },
    {
     "name": "stdout",
     "output_type": "stream",
     "text": [
      "Map saved to grid_map.html!\n"
     ]
    }
   ],
   "source": [
    "TX_selected_power_nodes, TX_power_line_list, TX_map_2 = virtual_power_network(TX_candidate_stops_df, threshold_power_node)"
   ]
  },
  {
   "cell_type": "markdown",
   "id": "beb5f75b",
   "metadata": {},
   "source": [
    "## Example 3: Generated Power Network of Salt Lake City"
   ]
  },
  {
   "cell_type": "code",
   "execution_count": 9,
   "id": "2a1d66f5",
   "metadata": {},
   "outputs": [
    {
     "name": "stdout",
     "output_type": "stream",
     "text": [
      "User Guide: https://docs.kepler.gl/docs/keplergl-jupyter\n"
     ]
    },
    {
     "data": {
      "image/png": "[encoded data removed]",
      "text/plain": [
       "<Figure size 432x288 with 1 Axes>"
      ]
     },
     "metadata": {},
     "output_type": "display_data"
    },
    {
     "name": "stdout",
     "output_type": "stream",
     "text": [
      "Map saved to grid_map.html!\n"
     ]
    }
   ],
   "source": [
    "UT_selected_power_nodes, UT_power_line_list, UT_map_2 = virtual_power_network(UT_candidate_stops_df, threshold_power_node)"
   ]
  },
  {
   "cell_type": "markdown",
   "id": "385ebeed",
   "metadata": {},
   "source": [
    "# Step 5: Visualize the coupled power and transportation network\n",
    "\n",
    "> In this step, we will combine the map of the generated transportation network and the virtual power network into a single visual representation. By overlapping these two networks on one map, we can gain a comprehensive view of the coupled network in the BEB planning projects."
   ]
  },
  {
   "cell_type": "markdown",
   "id": "5ac30098",
   "metadata": {},
   "source": [
    "## Example 1: Coupled Network of King County"
   ]
  },
  {
   "cell_type": "code",
   "execution_count": 10,
   "id": "f2932483",
   "metadata": {},
   "outputs": [
    {
     "data": {
      "application/vnd.jupyter.widget-view+json": {
       "model_id": "37ff38b017db44bf8bae344727f92c03",
       "version_major": 2,
       "version_minor": 0
      },
      "text/plain": [
       "KeplerGl(data={'candidates': {'index': [10, 105, 109, 180, 252, 265, 711, 879, 1071, 1474, 1540, 1650, 1750, 1…"
      ]
     },
     "metadata": {},
     "output_type": "display_data"
    }
   ],
   "source": [
    "# create a map to show the coupled power and transportation networks:\n",
    "WA_map_3 = WA_map_1\n",
    "WA_map_3.add_data(data = WA_selected_power_nodes, name='powernodes')\n",
    "WA_map_3.add_data(data = WA_power_line_list, name='powerlines')\n",
    "WA_map_3"
   ]
  },
  {
   "cell_type": "markdown",
   "id": "fe18409e",
   "metadata": {},
   "source": [
    "## Example 2: Coupled Network of Austin"
   ]
  },
  {
   "cell_type": "code",
   "execution_count": 11,
   "id": "6f617a77",
   "metadata": {},
   "outputs": [
    {
     "data": {
      "application/vnd.jupyter.widget-view+json": {
       "model_id": "fd3af44e059c45839059b4fb6dee6c5c",
       "version_major": 2,
       "version_minor": 0
      },
      "text/plain": [
       "KeplerGl(data={'candidates': {'index': [105, 146, 575, 706, 766, 786, 1090, 1165, 1214, 1425, 1454, 1475, 1494…"
      ]
     },
     "metadata": {},
     "output_type": "display_data"
    }
   ],
   "source": [
    "TX_map_3 = TX_map_1\n",
    "TX_map_3.add_data(data = TX_selected_power_nodes, name='powernodes')\n",
    "TX_map_3.add_data(data = TX_power_line_list, name='powerlines')\n",
    "TX_map_3"
   ]
  },
  {
   "cell_type": "markdown",
   "id": "2b2b93f0",
   "metadata": {},
   "source": [
    "## Example 3: Coupled Network of Salt Lake City"
   ]
  },
  {
   "cell_type": "code",
   "execution_count": 12,
   "id": "7c2690d0",
   "metadata": {},
   "outputs": [
    {
     "data": {
      "application/vnd.jupyter.widget-view+json": {
       "model_id": "036504292f024d5eb7b7bd810d2ac290",
       "version_major": 2,
       "version_minor": 0
      },
      "text/plain": [
       "KeplerGl(data={'candidates': {'index': [4, 99, 1667, 1827, 3109, 3133, 3155, 3156, 3157, 3620, 3877, 3903, 391…"
      ]
     },
     "metadata": {},
     "output_type": "display_data"
    }
   ],
   "source": [
    "UT_map_3 = UT_map_1\n",
    "UT_map_3.add_data(data = UT_selected_power_nodes, name='powernodes')\n",
    "UT_map_3.add_data(data = UT_power_line_list, name='powerlines')\n",
    "UT_map_3"
   ]
  }
 ],
 "metadata": {
  "kernelspec": {
   "display_name": "Python 3 (ipykernel)",
   "language": "python",
   "name": "python3"
  },
  "language_info": {
   "codemirror_mode": {
    "name": "ipython",
    "version": 3
   },
   "file_extension": ".py",
   "mimetype": "text/x-python",
   "name": "python",
   "nbconvert_exporter": "python",
   "pygments_lexer": "ipython3",
   "version": "3.8.8"
  }
 },
 "nbformat": 4,
 "nbformat_minor": 5
}
